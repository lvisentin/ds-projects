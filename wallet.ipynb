{
  "nbformat": 4,
  "nbformat_minor": 0,
  "metadata": {
    "kernelspec": {
      "display_name": "Python 3",
      "language": "python",
      "name": "python3"
    },
    "language_info": {
      "codemirror_mode": {
        "name": "ipython",
        "version": 3
      },
      "file_extension": ".py",
      "mimetype": "text/x-python",
      "name": "python",
      "nbconvert_exporter": "python",
      "pygments_lexer": "ipython3",
      "version": "3.8.8"
    },
    "colab": {
      "name": "wallet.ipynb",
      "provenance": [],
      "collapsed_sections": [],
      "include_colab_link": true
    }
  },
  "cells": [
    {
      "cell_type": "markdown",
      "metadata": {
        "id": "view-in-github",
        "colab_type": "text"
      },
      "source": [
        "<a href=\"https://colab.research.google.com/github/lvisentin/ds-projects/blob/main/wallet.ipynb\" target=\"_parent\"><img src=\"https://colab.research.google.com/assets/colab-badge.svg\" alt=\"Open In Colab\"/></a>"
      ]
    },
    {
      "cell_type": "code",
      "metadata": {
        "scrolled": true,
        "id": "LobNmPdwTB6b"
      },
      "source": [
        "import yfinance as yf\n",
        "import pandas as pd\n",
        "import numpy as np\n",
        "import quandl"
      ],
      "execution_count": null,
      "outputs": []
    },
    {
      "cell_type": "code",
      "metadata": {
        "id": "CstjSe0lTB6e"
      },
      "source": [
        "stocksList = ['ITUB4.SA', 'BBDC4.SA', 'WEGE3.SA', 'ABEV3.SA']\n",
        "startDate = '2020-01-01'\n",
        "endDate = '2021-02-10'\n",
        "\n",
        "prices = pd.DataFrame()"
      ],
      "execution_count": null,
      "outputs": []
    },
    {
      "cell_type": "code",
      "metadata": {
        "colab": {
          "base_uri": "https://localhost:8080/",
          "height": 518
        },
        "id": "vfFDa8dWTB6e",
        "outputId": "06e8c633-5185-4cec-8759-bf30f7b34217"
      },
      "source": [
        "for stock in stocksList:\n",
        "    prices[stock] = yf.download(stock, start = startDate, end = endDate)['Adj Close']"
      ],
      "execution_count": null,
      "outputs": [
        {
          "output_type": "stream",
          "name": "stdout",
          "text": [
            "[*********************100%***********************]  1 of 1 completed\n",
            "[*********************100%***********************]  1 of 1 completed\n",
            "[*********************100%***********************]  1 of 1 completed\n",
            "[*********************100%***********************]  1 of 1 completed\n"
          ]
        },
        {
          "output_type": "execute_result",
          "data": {
            "text/html": [
              "<div>\n",
              "<style scoped>\n",
              "    .dataframe tbody tr th:only-of-type {\n",
              "        vertical-align: middle;\n",
              "    }\n",
              "\n",
              "    .dataframe tbody tr th {\n",
              "        vertical-align: top;\n",
              "    }\n",
              "\n",
              "    .dataframe thead th {\n",
              "        text-align: right;\n",
              "    }\n",
              "</style>\n",
              "<table border=\"1\" class=\"dataframe\">\n",
              "  <thead>\n",
              "    <tr style=\"text-align: right;\">\n",
              "      <th></th>\n",
              "      <th>ITUB4.SA</th>\n",
              "      <th>BBDC4.SA</th>\n",
              "      <th>WEGE3.SA</th>\n",
              "      <th>ABEV3.SA</th>\n",
              "    </tr>\n",
              "    <tr>\n",
              "      <th>Date</th>\n",
              "      <th></th>\n",
              "      <th></th>\n",
              "      <th></th>\n",
              "      <th></th>\n",
              "    </tr>\n",
              "  </thead>\n",
              "  <tbody>\n",
              "    <tr>\n",
              "      <th>2020-01-02</th>\n",
              "      <td>36.299713</td>\n",
              "      <td>32.244991</td>\n",
              "      <td>17.296635</td>\n",
              "      <td>18.616690</td>\n",
              "    </tr>\n",
              "    <tr>\n",
              "      <th>2020-01-03</th>\n",
              "      <td>35.917919</td>\n",
              "      <td>32.259827</td>\n",
              "      <td>17.075762</td>\n",
              "      <td>18.354891</td>\n",
              "    </tr>\n",
              "    <tr>\n",
              "      <th>2020-01-06</th>\n",
              "      <td>35.383385</td>\n",
              "      <td>31.683605</td>\n",
              "      <td>17.119936</td>\n",
              "      <td>18.442158</td>\n",
              "    </tr>\n",
              "    <tr>\n",
              "      <th>2020-01-07</th>\n",
              "      <td>34.562531</td>\n",
              "      <td>31.133181</td>\n",
              "      <td>17.252457</td>\n",
              "      <td>18.480942</td>\n",
              "    </tr>\n",
              "    <tr>\n",
              "      <th>2020-01-08</th>\n",
              "      <td>33.999352</td>\n",
              "      <td>30.651560</td>\n",
              "      <td>16.599659</td>\n",
              "      <td>18.393675</td>\n",
              "    </tr>\n",
              "    <tr>\n",
              "      <th>...</th>\n",
              "      <td>...</td>\n",
              "      <td>...</td>\n",
              "      <td>...</td>\n",
              "      <td>...</td>\n",
              "    </tr>\n",
              "    <tr>\n",
              "      <th>2021-02-03</th>\n",
              "      <td>27.792347</td>\n",
              "      <td>22.319962</td>\n",
              "      <td>43.871773</td>\n",
              "      <td>15.680000</td>\n",
              "    </tr>\n",
              "    <tr>\n",
              "      <th>2021-02-04</th>\n",
              "      <td>27.674582</td>\n",
              "      <td>22.991776</td>\n",
              "      <td>42.337959</td>\n",
              "      <td>15.600000</td>\n",
              "    </tr>\n",
              "    <tr>\n",
              "      <th>2021-02-05</th>\n",
              "      <td>27.556816</td>\n",
              "      <td>22.868019</td>\n",
              "      <td>41.808552</td>\n",
              "      <td>15.520000</td>\n",
              "    </tr>\n",
              "    <tr>\n",
              "      <th>2021-02-08</th>\n",
              "      <td>27.046507</td>\n",
              "      <td>22.381844</td>\n",
              "      <td>42.303329</td>\n",
              "      <td>14.940000</td>\n",
              "    </tr>\n",
              "    <tr>\n",
              "      <th>2021-02-09</th>\n",
              "      <td>27.370356</td>\n",
              "      <td>22.496756</td>\n",
              "      <td>42.060890</td>\n",
              "      <td>14.960000</td>\n",
              "    </tr>\n",
              "  </tbody>\n",
              "</table>\n",
              "<p>273 rows × 4 columns</p>\n",
              "</div>"
            ],
            "text/plain": [
              "             ITUB4.SA   BBDC4.SA   WEGE3.SA   ABEV3.SA\n",
              "Date                                                  \n",
              "2020-01-02  36.299713  32.244991  17.296635  18.616690\n",
              "2020-01-03  35.917919  32.259827  17.075762  18.354891\n",
              "2020-01-06  35.383385  31.683605  17.119936  18.442158\n",
              "2020-01-07  34.562531  31.133181  17.252457  18.480942\n",
              "2020-01-08  33.999352  30.651560  16.599659  18.393675\n",
              "...               ...        ...        ...        ...\n",
              "2021-02-03  27.792347  22.319962  43.871773  15.680000\n",
              "2021-02-04  27.674582  22.991776  42.337959  15.600000\n",
              "2021-02-05  27.556816  22.868019  41.808552  15.520000\n",
              "2021-02-08  27.046507  22.381844  42.303329  14.940000\n",
              "2021-02-09  27.370356  22.496756  42.060890  14.960000\n",
              "\n",
              "[273 rows x 4 columns]"
            ]
          },
          "metadata": {},
          "execution_count": 9
        }
      ]
    },
    {
      "cell_type": "code",
      "metadata": {
        "id": "cYNyPI7nTB6f"
      },
      "source": [
        "buys = {\n",
        "    'ITUB4.SA': 1000,\n",
        "    'BBDC4.SA': 1000,\n",
        "    'WEGE3.SA': 1000,\n",
        "    'ABEV3.SA': 1000,\n",
        "}"
      ],
      "execution_count": null,
      "outputs": []
    },
    {
      "cell_type": "code",
      "metadata": {
        "colab": {
          "base_uri": "https://localhost:8080/",
          "height": 32
        },
        "id": "npTo9KcrTB6f",
        "outputId": "1d1dd059-a115-4be5-e495-e2a410afb7c9"
      },
      "source": [
        "buys_df = pd.Series(data=buys, index=list(buys.keys()))\n",
        "\n",
        "first = prices.iloc[0]\n",
        "stocks_qtt = buys_df/first\n",
        "\n",
        "pl = prices*stocks_qtt\n",
        "\n",
        "pl_filter = pl.dropna(axis='rows')\n",
        "\n",
        "pl_filter['PL Total'] = pl_filter.iloc[:].sum(axis = 1)\n",
        "\n",
        "quandl.ApiConfig.api_key = 'Us6x1ikNziCRU_MFiN86'\n",
        "\n",
        "cdi = quandl.get('BCB/1161', start_date = startDate)\n",
        "\n",
        "cdi.rename(columns = {'Value': 'CDI'}, inplace = True)\n",
        "\n",
        "cdi = cdi[~(cdi == 0).any(axis = 1)]\n",
        "\n",
        "benchmarks = ['^BVSP', 'USDBRL=X']\n",
        "\n",
        "benchs = pd.DataFrame()"
      ],
      "execution_count": null,
      "outputs": [
        {
          "output_type": "execute_result",
          "data": {
            "text/html": [
              "<div>\n",
              "<style scoped>\n",
              "    .dataframe tbody tr th:only-of-type {\n",
              "        vertical-align: middle;\n",
              "    }\n",
              "\n",
              "    .dataframe tbody tr th {\n",
              "        vertical-align: top;\n",
              "    }\n",
              "\n",
              "    .dataframe thead th {\n",
              "        text-align: right;\n",
              "    }\n",
              "</style>\n",
              "<table border=\"1\" class=\"dataframe\">\n",
              "  <thead>\n",
              "    <tr style=\"text-align: right;\">\n",
              "      <th></th>\n",
              "    </tr>\n",
              "  </thead>\n",
              "  <tbody>\n",
              "  </tbody>\n",
              "</table>\n",
              "</div>"
            ],
            "text/plain": [
              "Empty DataFrame\n",
              "Columns: []\n",
              "Index: []"
            ]
          },
          "metadata": {},
          "execution_count": 43
        }
      ]
    },
    {
      "cell_type": "code",
      "metadata": {
        "colab": {
          "base_uri": "https://localhost:8080/",
          "height": 484
        },
        "id": "hmET_3iFTB6f",
        "outputId": "5c0be215-6e4b-4c83-d5cf-cd77a874ae2e"
      },
      "source": [
        "for bench in benchmarks:\n",
        "    benchs[bench] = yf.download(bench, start = startDate, end = endDate)['Adj Close']"
      ],
      "execution_count": null,
      "outputs": [
        {
          "output_type": "stream",
          "name": "stdout",
          "text": [
            "[*********************100%***********************]  1 of 1 completed\n",
            "[*********************100%***********************]  1 of 1 completed\n"
          ]
        },
        {
          "output_type": "execute_result",
          "data": {
            "text/html": [
              "<div>\n",
              "<style scoped>\n",
              "    .dataframe tbody tr th:only-of-type {\n",
              "        vertical-align: middle;\n",
              "    }\n",
              "\n",
              "    .dataframe tbody tr th {\n",
              "        vertical-align: top;\n",
              "    }\n",
              "\n",
              "    .dataframe thead th {\n",
              "        text-align: right;\n",
              "    }\n",
              "</style>\n",
              "<table border=\"1\" class=\"dataframe\">\n",
              "  <thead>\n",
              "    <tr style=\"text-align: right;\">\n",
              "      <th></th>\n",
              "      <th>^BVSP</th>\n",
              "      <th>USDBRL=X</th>\n",
              "    </tr>\n",
              "    <tr>\n",
              "      <th>Date</th>\n",
              "      <th></th>\n",
              "      <th></th>\n",
              "    </tr>\n",
              "  </thead>\n",
              "  <tbody>\n",
              "    <tr>\n",
              "      <th>2020-01-02</th>\n",
              "      <td>118573.0</td>\n",
              "      <td>4.0163</td>\n",
              "    </tr>\n",
              "    <tr>\n",
              "      <th>2020-01-03</th>\n",
              "      <td>117707.0</td>\n",
              "      <td>4.0234</td>\n",
              "    </tr>\n",
              "    <tr>\n",
              "      <th>2020-01-06</th>\n",
              "      <td>116878.0</td>\n",
              "      <td>4.0570</td>\n",
              "    </tr>\n",
              "    <tr>\n",
              "      <th>2020-01-07</th>\n",
              "      <td>116662.0</td>\n",
              "      <td>4.0604</td>\n",
              "    </tr>\n",
              "    <tr>\n",
              "      <th>2020-01-08</th>\n",
              "      <td>116247.0</td>\n",
              "      <td>4.0662</td>\n",
              "    </tr>\n",
              "    <tr>\n",
              "      <th>...</th>\n",
              "      <td>...</td>\n",
              "      <td>...</td>\n",
              "    </tr>\n",
              "    <tr>\n",
              "      <th>2021-02-03</th>\n",
              "      <td>119725.0</td>\n",
              "      <td>5.3669</td>\n",
              "    </tr>\n",
              "    <tr>\n",
              "      <th>2021-02-04</th>\n",
              "      <td>119261.0</td>\n",
              "      <td>5.3520</td>\n",
              "    </tr>\n",
              "    <tr>\n",
              "      <th>2021-02-05</th>\n",
              "      <td>119925.0</td>\n",
              "      <td>5.4257</td>\n",
              "    </tr>\n",
              "    <tr>\n",
              "      <th>2021-02-08</th>\n",
              "      <td>119516.0</td>\n",
              "      <td>5.3692</td>\n",
              "    </tr>\n",
              "    <tr>\n",
              "      <th>2021-02-09</th>\n",
              "      <td>119429.0</td>\n",
              "      <td>5.3643</td>\n",
              "    </tr>\n",
              "  </tbody>\n",
              "</table>\n",
              "<p>273 rows × 2 columns</p>\n",
              "</div>"
            ],
            "text/plain": [
              "               ^BVSP  USDBRL=X\n",
              "Date                          \n",
              "2020-01-02  118573.0    4.0163\n",
              "2020-01-03  117707.0    4.0234\n",
              "2020-01-06  116878.0    4.0570\n",
              "2020-01-07  116662.0    4.0604\n",
              "2020-01-08  116247.0    4.0662\n",
              "...              ...       ...\n",
              "2021-02-03  119725.0    5.3669\n",
              "2021-02-04  119261.0    5.3520\n",
              "2021-02-05  119925.0    5.4257\n",
              "2021-02-08  119516.0    5.3692\n",
              "2021-02-09  119429.0    5.3643\n",
              "\n",
              "[273 rows x 2 columns]"
            ]
          },
          "metadata": {},
          "execution_count": 45
        }
      ]
    },
    {
      "cell_type": "code",
      "metadata": {
        "id": "T9yYy76LTB6g"
      },
      "source": [
        "\n",
        "benchs = pd.merge(benchs, cdi, how = 'inner', on = 'Date')\n",
        "\n",
        "bench_pl = pd.merge(benchs, pl_filter, how = 'inner', on = 'Date')\n"
      ],
      "execution_count": null,
      "outputs": []
    },
    {
      "cell_type": "code",
      "metadata": {
        "id": "TOXWJgsQTB6g"
      },
      "source": [
        "\n",
        "lista = []\n",
        "\n",
        "for i in range(len(bench_pl)):\n",
        "    if i == 0:\n",
        "        lista.append(1)\n",
        "    else:\n",
        "        lista.append((lista[i-1]) * (1 + (bench_pl.CDI.iloc[i-1])/100))\n"
      ],
      "execution_count": null,
      "outputs": []
    },
    {
      "cell_type": "code",
      "metadata": {
        "colab": {
          "base_uri": "https://localhost:8080/",
          "height": 588
        },
        "id": "AxjqwYxFTB6g",
        "outputId": "f3e4fc6a-9a0f-4924-a20d-573f12e9cc04"
      },
      "source": [
        "bench_pl['CDB_100%_CDI'] = lista\n",
        "\n",
        "normal_pl = bench_pl/bench_pl.iloc[0]\n",
        "normal_pl.rename(columns = {'^BVSP': 'IBOV', 'USDBRL=X' : 'Dolar', 'PL Total': 'Nossa Carteira'}, inplace = True)\n",
        "\n",
        "normal_pl[['CDB_100%_CDI', 'IBOV', 'Dolar', 'Nossa Carteira']].plot(figsize = (10,10))"
      ],
      "execution_count": null,
      "outputs": [
        {
          "output_type": "execute_result",
          "data": {
            "text/plain": [
              "<matplotlib.axes._subplots.AxesSubplot at 0x7facfebe7390>"
            ]
          },
          "metadata": {},
          "execution_count": 65
        },
        {
          "output_type": "display_data",
          "data": {
            "image/png": "[encoded data removed]",
            "text/plain": [
              "<Figure size 720x720 with 1 Axes>"
            ]
          },
          "metadata": {
            "needs_background": "light"
          }
        }
      ]
    },
    {
      "cell_type": "code",
      "metadata": {
        "id": "EWOpKtKpVjm_"
      },
      "source": [
        ""
      ],
      "execution_count": null,
      "outputs": []
    }
  ]
}